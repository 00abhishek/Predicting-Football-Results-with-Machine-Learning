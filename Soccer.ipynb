{
 "cells": [
  {
   "cell_type": "markdown",
   "metadata": {},
   "source": [
    "# Predicting soccer outcome\n",
    "\n",
    "<img src=\"http://kb4images.com/images/soccer-wallpaper/36394358-soccer-wallpaper.jpg\">"
   ]
  },
  {
   "cell_type": "markdown",
   "metadata": {},
   "source": [
    "Machine Learning (ML) is one the intelligent methodologies for sport prediction. In this notebook, I explain how we can apply two different ML algorithms to predict outcome of soccer matches. We have three steps to predict soccer outcome results.\n",
    "\n",
    "1) Finding features for our model and doing some statistical analysis on the features\n",
    "\n",
    "2) Apply Machine Learning algorithms: Logistic Regression and Support Vector Machine (SVM)\n",
    "\n",
    "3) Optimize our model and compare it with a bookmaker results (BET365)"
   ]
  },
  {
   "cell_type": "markdown",
   "metadata": {},
   "source": [
    "You can download data of English premier league 2016/2017 from:\n",
    "http://football-data.co.uk/englandm.php\n",
    "\n",
    "Notes for Football Data\n",
    "<br>\n",
    "HomeTeam = Home Team \n",
    "<br>\n",
    "AwayTeam = Away Team\n",
    "<br>\n",
    "FTHG and HG = Full Time Home Team Goals\n",
    "<br>\n",
    "FTAG and AG = Full Time Away Team Goals\n",
    "<br>\n",
    "FTR and Res = Full Time Result (H=Home Win, D=Draw, A=Away Win)\n",
    "<br>\n",
    "HS = Home Team Shots\n",
    "<br>\n",
    "AS = Away Team Shots\n",
    "<br>\n",
    "HST = Home Team Shots on Target\n",
    "<br>\n",
    "AST = Away Team Shots on Target\n",
    "<br>\n",
    "B365H = Bet365 home win odds\n",
    "<br>\n",
    "B365D = Bet365 draw odds\n",
    "<br>\n",
    "B365A = Bet365 away win odds"
   ]
  },
  {
   "cell_type": "code",
   "execution_count": 2,
   "metadata": {},
   "outputs": [
    {
     "data": {
      "text/html": [
       "<div>\n",
       "<style>\n",
       "    .dataframe thead tr:only-child th {\n",
       "        text-align: right;\n",
       "    }\n",
       "\n",
       "    .dataframe thead th {\n",
       "        text-align: left;\n",
       "    }\n",
       "\n",
       "    .dataframe tbody tr th {\n",
       "        vertical-align: top;\n",
       "    }\n",
       "</style>\n",
       "<table border=\"1\" class=\"dataframe\">\n",
       "  <thead>\n",
       "    <tr style=\"text-align: right;\">\n",
       "      <th></th>\n",
       "      <th>HomeTeam</th>\n",
       "      <th>AwayTeam</th>\n",
       "      <th>FTHG</th>\n",
       "      <th>FTAG</th>\n",
       "      <th>FTR</th>\n",
       "      <th>HS</th>\n",
       "      <th>AS</th>\n",
       "      <th>HST</th>\n",
       "      <th>AST</th>\n",
       "      <th>B365H</th>\n",
       "      <th>B365D</th>\n",
       "      <th>B365A</th>\n",
       "    </tr>\n",
       "  </thead>\n",
       "  <tbody>\n",
       "    <tr>\n",
       "      <th>0</th>\n",
       "      <td>Burnley</td>\n",
       "      <td>Swansea</td>\n",
       "      <td>0</td>\n",
       "      <td>1</td>\n",
       "      <td>A</td>\n",
       "      <td>10</td>\n",
       "      <td>17</td>\n",
       "      <td>3</td>\n",
       "      <td>9</td>\n",
       "      <td>2.40</td>\n",
       "      <td>3.3</td>\n",
       "      <td>3.25</td>\n",
       "    </tr>\n",
       "    <tr>\n",
       "      <th>1</th>\n",
       "      <td>Crystal Palace</td>\n",
       "      <td>West Brom</td>\n",
       "      <td>0</td>\n",
       "      <td>1</td>\n",
       "      <td>A</td>\n",
       "      <td>14</td>\n",
       "      <td>13</td>\n",
       "      <td>4</td>\n",
       "      <td>3</td>\n",
       "      <td>2.00</td>\n",
       "      <td>3.3</td>\n",
       "      <td>4.50</td>\n",
       "    </tr>\n",
       "    <tr>\n",
       "      <th>2</th>\n",
       "      <td>Everton</td>\n",
       "      <td>Tottenham</td>\n",
       "      <td>1</td>\n",
       "      <td>1</td>\n",
       "      <td>D</td>\n",
       "      <td>12</td>\n",
       "      <td>13</td>\n",
       "      <td>6</td>\n",
       "      <td>4</td>\n",
       "      <td>3.20</td>\n",
       "      <td>3.4</td>\n",
       "      <td>2.40</td>\n",
       "    </tr>\n",
       "    <tr>\n",
       "      <th>3</th>\n",
       "      <td>Hull</td>\n",
       "      <td>Leicester</td>\n",
       "      <td>2</td>\n",
       "      <td>1</td>\n",
       "      <td>H</td>\n",
       "      <td>14</td>\n",
       "      <td>18</td>\n",
       "      <td>5</td>\n",
       "      <td>5</td>\n",
       "      <td>4.50</td>\n",
       "      <td>3.6</td>\n",
       "      <td>1.91</td>\n",
       "    </tr>\n",
       "    <tr>\n",
       "      <th>4</th>\n",
       "      <td>Man City</td>\n",
       "      <td>Sunderland</td>\n",
       "      <td>2</td>\n",
       "      <td>1</td>\n",
       "      <td>H</td>\n",
       "      <td>16</td>\n",
       "      <td>7</td>\n",
       "      <td>4</td>\n",
       "      <td>3</td>\n",
       "      <td>1.25</td>\n",
       "      <td>6.5</td>\n",
       "      <td>15.00</td>\n",
       "    </tr>\n",
       "  </tbody>\n",
       "</table>\n",
       "</div>"
      ],
      "text/plain": [
       "         HomeTeam    AwayTeam  FTHG  FTAG FTR  HS  AS  HST  AST  B365H  B365D  \\\n",
       "0         Burnley     Swansea     0     1   A  10  17    3    9   2.40    3.3   \n",
       "1  Crystal Palace   West Brom     0     1   A  14  13    4    3   2.00    3.3   \n",
       "2         Everton   Tottenham     1     1   D  12  13    6    4   3.20    3.4   \n",
       "3            Hull   Leicester     2     1   H  14  18    5    5   4.50    3.6   \n",
       "4        Man City  Sunderland     2     1   H  16   7    4    3   1.25    6.5   \n",
       "\n",
       "   B365A  \n",
       "0   3.25  \n",
       "1   4.50  \n",
       "2   2.40  \n",
       "3   1.91  \n",
       "4  15.00  "
      ]
     },
     "execution_count": 2,
     "metadata": {},
     "output_type": "execute_result"
    }
   ],
   "source": [
    "import pandas as pd\n",
    "import numpy as np\n",
    "df1=pd.read_csv('E0.csv',usecols=['HomeTeam','AwayTeam','FTHG','FTAG','FTR','HS','AS','HST','AST'\n",
    ",'B365H','B365D','B365A'])\n",
    "df1.head()"
   ]
  },
  {
   "cell_type": "markdown",
   "metadata": {},
   "source": [
    "Now let's check the percentage of home win,away win and draw "
   ]
  },
  {
   "cell_type": "code",
   "execution_count": 30,
   "metadata": {},
   "outputs": [
    {
     "data": {
      "image/png": "[encoded data removed]",
      "text/plain": [
       "<matplotlib.figure.Figure at 0x2c942ab5be0>"
      ]
     },
     "metadata": {},
     "output_type": "display_data"
    }
   ],
   "source": [
    "import matplotlib.pyplot as plt\n",
    "plt.figure(figsize=(6,8))\n",
    "plt.pie(df1['FTR'].value_counts(),labels=['Home','Away','Draw'], autopct='%1.1f%%',shadow=True, startangle=0)\n",
    "plt.axis('equal')\n",
    "plt.title('Win Percentage', size=18)\n",
    "plt.show()"
   ]
  },
  {
   "cell_type": "markdown",
   "metadata": {},
   "source": [
    "This pie graph shows the home team has higher chance to win the game. We can find confidence interval for our hypothesis."
   ]
  },
  {
   "cell_type": "code",
   "execution_count": 31,
   "metadata": {},
   "outputs": [
    {
     "name": "stdout",
     "output_type": "stream",
     "text": [
      "The chance of home team to win with %95 confidence interval falls in :(0.44183951466813098, 0.54237101164765844)\n"
     ]
    }
   ],
   "source": [
    "from statsmodels.stats import proportion\n",
    "conf=proportion.proportion_confint((df1['FTR']=='H').sum(), df1['FTR'].count(), alpha=0.05, method='normal')\n",
    "print('The chance of home team to win with %95 confidence interval falls in :{}'.format(conf))"
   ]
  },
  {
   "cell_type": "markdown",
   "metadata": {},
   "source": [
    "In order to have some estimation of attack, defense and possession of different team, I added another data frame to the previous data frame which can be downloaded from the following link:\n",
    "http://www.squawka.com/\n"
   ]
  },
  {
   "cell_type": "code",
   "execution_count": 32,
   "metadata": {
    "collapsed": true
   },
   "outputs": [],
   "source": [
    "##add new data to data frame\n",
    "dfSq=pd.read_csv('dataE0.csv',index_col='Team').dropna(axis=0,how='any')\n",
    "##Hde: Home Defense    Hatt: Home Attack    Hpo: Home possession    Htot : Home total power  \n",
    "##Ade: Away defense   Aatt: away attack    Apo : Away possession :  Atot: Away total power\n",
    "dfSq.head()\n",
    "dff=df1.join(dfSq[['Hde','Hatt','Hpo','Htot']],on='HomeTeam')\n",
    "df=dff.join(dfSq[['Ade','Aatt','Apo','Atot']],on='AwayTeam')"
   ]
  },
  {
   "cell_type": "markdown",
   "metadata": {},
   "source": [
    "Making features for our model (As an obvious fact we do not know the results for the game that we are predicting! so we need to make some features based on the previous results for every match):\n",
    "<br>\n",
    "1)Taking the average of previous games different features for every team and considering as a new feature for our model (For example Man City played against 10 teams in the middle of season and they had 20 shots on target, therefore we take this average (2 shots per game) and consider it as new feature)\n",
    "<br>\n",
    "2)I also defined a momentum which gives the average of five previous games for each team. It could be helpful to make our model more accurately. If for example some team in the five previous games shows poor results or great results, we can track them.\n",
    "<br>"
   ]
  },
  {
   "cell_type": "code",
   "execution_count": 34,
   "metadata": {},
   "outputs": [],
   "source": [
    "def make_data(df):\n",
    "    ##add points for away and home team : win 3 points, draw 1 point, loss 0 point\n",
    "    df['HP']=np.select([df['FTR']=='H',df['FTR']=='D',df['FTR']=='A'],[3,1,0])\n",
    "    df['AP']=np.select([df['FTR']=='H',df['FTR']=='D',df['FTR']=='A'],[0,1,3])\n",
    "    ## add difference in goals for home and away team\n",
    "    df['HDG']=df['FTHG']-df['FTAG']\n",
    "    df['ADG']=-df['FTHG']+df['FTAG']\n",
    "    ##add momentum to data \n",
    "    cols=['Team','Points','Goal','Shoot','TargetShoot','DiffG']\n",
    "    df1=df[['HomeTeam','AwayTeam','HP','AP','FTHG','FTAG','HS','AS','HST','AST','HDG','ADG']]\n",
    "    df1.columns=[np.repeat(cols,2),['Home','Away']*len(cols)]\n",
    "    d1=df1.stack()\n",
    "    ##find momentum of previous five games for each team\n",
    "    mom5 = d1.groupby('Team').apply(lambda x: x.shift().rolling(5, 4).mean())\n",
    "    mom=d1.groupby('Team').apply(lambda x: pd.expanding_mean(x.shift()))\n",
    "    ##add the found momentum to the dataframe\n",
    "    df2=d1.assign(MP=mom5['Points'],MG=mom5['Goal'],MS=mom5['Shoot'],MST=mom5['TargetShoot'],MDG=mom5['DiffG'],AP=mom['Points'],AG=mom['Goal'],AS=mom['Shoot'],AST=mom['TargetShoot'],ADG=mom['DiffG']).unstack()\n",
    "    df2=df2.drop(['Points','Goal','Shoot','TargetShoot','DiffG'],axis=1)\n",
    "    df_final=pd.merge(df[['HomeTeam','AwayTeam','FTR','B365H','B365D','B365A','Ade','Aatt','Apo','Atot','Hde','Hatt','Hpo','Htot']],df2,left_on=['HomeTeam','AwayTeam'],right_on=[df2['Team']['Home'],df2['Team']['Away']])\n",
    "    df_final=df_final.dropna(axis=0,how='any')\n",
    "    ##Full time results ('FTR') : Home=0,Draw=1,Away=2\n",
    "    Y_all=df_final['FTR']\n",
    "    ##Full time results ('FTR') : Home=0,Draw=1,Away=2\n",
    "    ##Prediction of betting company (bet365)=Y_Bet\n",
    "    Y_Bet=df_final[['B365H','B365D','B365A']].apply(lambda x:1/x)\n",
    "    ## winner based on bet365 data\n",
    "    Y_Bet_FTR=np.select([Y_Bet.idxmax(axis=1)=='B365H',Y_Bet.idxmax(axis=1)=='B365D',Y_Bet.idxmax(axis=1)=='B365A'],['H','D','A'])\n",
    "    ##scale data\n",
    "    df_X=df_final.drop([('Team', 'Home'),('Team', 'Away'),'FTR','HomeTeam','AwayTeam','B365H','B365D','B365A'],axis=1)\n",
    "    return df_X, Y_all,Y_Bet,Y_Bet_FTR\n",
    "df_X, Y_all,Y_Bet,Y_Bet_FTR=make_data(df)\n"
   ]
  },
  {
   "cell_type": "markdown",
   "metadata": {},
   "source": [
    "We have the features stored in df_X, the results stored in Y_all and results of bookmaker stored in Y_Bet_FTR. \n",
    "Then we need to scale the features.\n"
   ]
  },
  {
   "cell_type": "code",
   "execution_count": 35,
   "metadata": {
    "collapsed": true
   },
   "outputs": [],
   "source": [
    "from sklearn.preprocessing import scale\n",
    "X_all=scale(df_X)"
   ]
  },
  {
   "cell_type": "markdown",
   "metadata": {},
   "source": [
    "Then I use two different algorithms, Logistic regression and SVM, to train the models and predict the outcome. Then I defined a pipeline to optimize parameters of models (C which is optimized in these models is a parameter that shows regularization in our model)"
   ]
  },
  {
   "cell_type": "code",
   "execution_count": 42,
   "metadata": {},
   "outputs": [],
   "source": [
    "from sklearn.model_selection import train_test_split\n",
    "from sklearn.grid_search import GridSearchCV\n",
    "from sklearn import linear_model\n",
    "from sklearn.svm import SVC\n",
    "from sklearn.metrics import classification_report\n",
    "def data_split(X_all, Y_all,Y_Bet_FTR,Y_Bet):\n",
    "    X_train, X_test, y_train, y_test,y_train_bet_FTR,y_test_bet_FTR,y_train_bet,y_test_bet = train_test_split(X_all, Y_all,Y_Bet_FTR,Y_Bet, test_size=0.3, random_state=42) \n",
    "    return X_train, X_test, y_train, y_test,y_train_bet_FTR,y_test_bet_FTR,y_train_bet,y_test_bet  \n",
    "def predict_labels(clf,X_test):\n",
    "    y_pred=clf.predict(X_test)\n",
    "    return y_pred   \n",
    "def report_score(clf,X_test,y_test,y_pred,X_train,y_train):\n",
    "    target_names = ['H', 'D', 'A']\n",
    "    print(classification_report(y_test, y_pred, target_names=target_names))\n",
    "    print ('{}....Test accuracy:{} Train accuracy:{}'.format(clf.__class__.__name__,clf.score(X_test,y_test),clf.score(X_train,y_train)))\n",
    "def report_score_bet365(y_test,y_pred):\n",
    "    target_names = ['H', 'D', 'A']\n",
    "    print(classification_report(y_test, y_pred, target_names=target_names))\n",
    "    print ('BET365 accuracy:{} '.format((y_test==y_pred).sum()/len(y_test)))\n",
    "def train_classifier(clf,parameters,X_train,y_train):\n",
    "    grid_class = GridSearchCV(clf,scoring='accuracy',param_grid=parameters)\n",
    "    grid_class = grid_class.fit(X_train,y_train)\n",
    "    clf = grid_class.best_estimator_\n",
    "    return clf\n",
    "clf_logistic= linear_model.LogisticRegression(multi_class = \"ovr\", solver = 'newton-cg', class_weight = 'balanced')\n",
    "clf_svc = SVC(kernel=\"linear\",probability=True)\n",
    "clfs=[clf_logistic,clf_svc]\n",
    "X_train, X_test, y_train, y_test,y_train_bet_FTR,y_test_bet_FTR,y_train_bet,y_test_bet=data_split(X_all, Y_all,Y_Bet_FTR,Y_Bet)\n",
    "parameter_logistic = {'C': np.logspace(-5,5,100)}\n",
    "parameter_SVC = {'C': np.arange(0.1,3,0.01)}\n",
    "parameters={clfs[0]:parameter_logistic,clfs[1]:parameter_SVC}"
   ]
  },
  {
   "cell_type": "code",
   "execution_count": 44,
   "metadata": {},
   "outputs": [
    {
     "name": "stdout",
     "output_type": "stream",
     "text": [
      "             precision    recall  f1-score   support\n",
      "\n",
      "          H       0.49      0.71      0.58        28\n",
      "          D       0.25      0.15      0.19        20\n",
      "          A       0.71      0.65      0.68        54\n",
      "\n",
      "avg / total       0.56      0.57      0.56       102\n",
      "\n",
      "LogisticRegression....Test accuracy:0.5686274509803921 Train accuracy:0.6428571428571429\n",
      "             precision    recall  f1-score   support\n",
      "\n",
      "          H       0.59      0.61      0.60        28\n",
      "          D       0.50      0.15      0.23        20\n",
      "          A       0.64      0.80      0.71        54\n",
      "\n",
      "avg / total       0.60      0.62      0.59       102\n",
      "\n",
      "SVC....Test accuracy:0.6176470588235294 Train accuracy:0.6764705882352942\n"
     ]
    }
   ],
   "source": [
    "for clf in clfs:\n",
    "    clf=train_classifier(clf,parameters[clf],X_train,y_train)\n",
    "    y_pred=predict_labels(clf,X_test)\n",
    "    report_score(clf,X_test,y_test,y_pred,X_train,y_train)\n"
   ]
  },
  {
   "cell_type": "markdown",
   "metadata": {},
   "source": [
    "Let's how good, BET365 had predicted the results."
   ]
  },
  {
   "cell_type": "code",
   "execution_count": 45,
   "metadata": {},
   "outputs": [
    {
     "name": "stdout",
     "output_type": "stream",
     "text": [
      "             precision    recall  f1-score   support\n",
      "\n",
      "          H       0.60      0.75      0.67        28\n",
      "          D       0.00      0.00      0.00        20\n",
      "          A       0.67      0.83      0.74        54\n",
      "\n",
      "avg / total       0.52      0.65      0.58       102\n",
      "\n",
      "BET365 accuracy:0.6470588235294118 \n"
     ]
    },
    {
     "name": "stderr",
     "output_type": "stream",
     "text": [
      "C:\\Users\\Lab\\Anaconda3\\lib\\site-packages\\sklearn\\metrics\\classification.py:1135: UndefinedMetricWarning: Precision and F-score are ill-defined and being set to 0.0 in labels with no predicted samples.\n",
      "  'precision', 'predicted', average, warn_for)\n"
     ]
    }
   ],
   "source": [
    "report_score_bet365(y_test,y_test_bet_FTR)"
   ]
  },
  {
   "cell_type": "markdown",
   "metadata": {},
   "source": [
    "BET365 did not have any prediction for Draw. This results in ill-defined f1-score. In general, our simple models have good accuracy and F1-score in comparison to bookmaker. We can expect this difference due to the fact that bookmakers have more data for every team and match. Therefore, they can train better prediction models. \n",
    "Also comparing Logistic regression with SVM shows that, SVM has predicted the results with higher accuracy and F1-score. \n",
    "I would like to mention that predicting betting odds is also so important. Whenever our model predicts higher probability for win or draw in comparison to bookmaker, it is logical to bet on that match (this method is referred as value bet)."
   ]
  },
  {
   "cell_type": "code",
   "execution_count": null,
   "metadata": {
    "collapsed": true
   },
   "outputs": [],
   "source": []
  }
 ],
 "metadata": {
  "anaconda-cloud": {},
  "kernelspec": {
   "display_name": "Python [conda env:Anaconda3]",
   "language": "python",
   "name": "conda-env-Anaconda3-py"
  },
  "language_info": {
   "codemirror_mode": {
    "name": "ipython",
    "version": 3
   },
   "file_extension": ".py",
   "mimetype": "text/x-python",
   "name": "python",
   "nbconvert_exporter": "python",
   "pygments_lexer": "ipython3",
   "version": "3.5.4"
  }
 },
 "nbformat": 4,
 "nbformat_minor": 2
}
